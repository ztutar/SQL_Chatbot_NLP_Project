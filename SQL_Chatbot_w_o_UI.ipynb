{
  "nbformat": 4,
  "nbformat_minor": 0,
  "metadata": {
    "colab": {
      "provenance": [],
      "gpuType": "V28"
    },
    "kernelspec": {
      "name": "python3",
      "display_name": "Python 3"
    },
    "language_info": {
      "name": "python"
    },
    "accelerator": "TPU"
  },
  "cells": [
    {
      "cell_type": "code",
      "source": [
        "!pip install streamlit langchain_core langchain_community ollama\n",
        "from IPython.display import clear_output\n",
        "clear_output()"
      ],
      "metadata": {
        "id": "onPbOp5CeQc6"
      },
      "execution_count": 1,
      "outputs": []
    },
    {
      "cell_type": "code",
      "execution_count": 2,
      "metadata": {
        "id": "n1KOHaCabIem"
      },
      "outputs": [],
      "source": [
        "import streamlit as st\n",
        "from langchain_community.chat_models import ChatOllama\n",
        "from langchain_community.utilities import SQLDatabase\n",
        "from langchain_core.prompts import ChatPromptTemplate\n",
        "import ollama as Ollama\n",
        "from sqlalchemy import create_engine\n",
        "from sqlalchemy.pool import StaticPool\n",
        "import sqlite3\n",
        "#import gradio as gr"
      ]
    },
    {
      "cell_type": "code",
      "source": [
        "!sudo apt-get install -y pciutils\n",
        "!curl -fsSL https://ollama.com/install.sh | sh # download ollama api\n",
        "clear_output()\n",
        "\n",
        "#Create a Python script to start the Ollama API server in a seperate thread\n",
        "\n",
        "import os\n",
        "import threading\n",
        "import subprocess\n",
        "import requests\n",
        "import json\n",
        "\n",
        "def ollama():\n",
        "  os.environ['OLLAMA_HOST'] = '127.0.0.1:11434'\n",
        "  os.environ['OLLAMA_ORIGINS'] = '*'\n",
        "  subprocess.Popen(['ollama', 'serve'])"
      ],
      "metadata": {
        "id": "uWDTIp98bnR_"
      },
      "execution_count": 3,
      "outputs": []
    },
    {
      "cell_type": "code",
      "source": [
        "ollama_thread = threading.Thread(target=ollama)\n",
        "ollama_thread.start()"
      ],
      "metadata": {
        "id": "VrLB3Fj2wXuf"
      },
      "execution_count": 4,
      "outputs": []
    },
    {
      "cell_type": "code",
      "source": [
        "!ollama pull llama3.1:70b\n",
        "clear_output()"
      ],
      "metadata": {
        "id": "cqot1txmtzVH"
      },
      "execution_count": 5,
      "outputs": []
    },
    {
      "cell_type": "code",
      "source": [
        "!ollama list"
      ],
      "metadata": {
        "colab": {
          "base_uri": "https://localhost:8080/"
        },
        "id": "cHkDzSWYvt1M",
        "outputId": "8492c710-3c88-4b84-a791-773847c68b9b"
      },
      "execution_count": 6,
      "outputs": [
        {
          "output_type": "stream",
          "name": "stdout",
          "text": [
            "NAME        \tID          \tSIZE \tMODIFIED               \n",
            "llama3.1:70b\tf9f6c437c417\t39 GB\tLess than a second ago\t\n"
          ]
        }
      ]
    },
    {
      "cell_type": "code",
      "source": [
        "llm = ChatOllama(model=\"llama3.1:70b\", temperature=0.1)"
      ],
      "metadata": {
        "id": "1Wjel9qXeFa2"
      },
      "execution_count": 7,
      "outputs": []
    },
    {
      "cell_type": "code",
      "source": [
        "def connectDatabase(url):\n",
        "    response = requests.get(url)\n",
        "    sql_script = response.text\n",
        "\n",
        "    connection = sqlite3.connect(\":memory:\", check_same_thread=False)\n",
        "    connection.executescript(sql_script)\n",
        "    engine = create_engine(\n",
        "        \"sqlite://\",\n",
        "        creator=lambda: connection,\n",
        "        poolclass=StaticPool,\n",
        "        connect_args={\"check_same_thread\": False})\n",
        "    db = SQLDatabase(engine)\n",
        "    return db\n",
        "\n",
        "def runQuery(query):\n",
        "  if db:\n",
        "    return db.run(query)\n",
        "  else:\n",
        "    \"Please connect to database\"\n",
        "\n",
        "\n",
        "def getDatabaseSchema():\n",
        "  if db:\n",
        "    return db.get_table_info()\n",
        "  else:\n",
        "    \"Please connect to database\"\n",
        "\n",
        "\n",
        "def getQueryFromLLM(question, max_iteration=10):\n",
        "    template = \"\"\"below is the schema of SQLite database, read the schema carefully about the table and column names. Also take care of table or column name case sensitivity.\n",
        "    Finally answer user's question in the form of SQL query.\n",
        "\n",
        "    {schema}\n",
        "\n",
        "    please only provide the SQL query and nothing else\n",
        "\n",
        "    for example:\n",
        "    question: how many albums we have in database\n",
        "    SQL query: SELECT COUNT(*) FROM album\n",
        "    question: how many customers are from Brazil in the database ?\n",
        "    SQL query: SELECT COUNT(*) FROM customer WHERE country=Brazil\n",
        "\n",
        "    your turn :\n",
        "    question: {question}\n",
        "    SQL query :\n",
        "    please only provide the SQL query and nothing else\n",
        "    \"\"\"\n",
        "    prompt = ChatPromptTemplate.from_template(template)  # Define prompt outside the loop\n",
        "    chain = prompt | llm  # Define initial chain outside the loop\n",
        "    i = max_iteration\n",
        "    response = None  # Initialize response to None\n",
        "\n",
        "    while i>0:\n",
        "        try:\n",
        "            response = chain.invoke({\n",
        "                \"question\": question,\n",
        "                \"schema\": getDatabaseSchema(),\n",
        "                \"error\" : \"\"\n",
        "            })\n",
        "            # Attempt to execute the query to check its validity\n",
        "            result = runQuery(response.content)\n",
        "            # If execution is successful, break the loop\n",
        "            break\n",
        "        except Exception as error:\n",
        "            # If an error occurs, feed the error message back to the LLM\n",
        "            print(f\"Error encountered: {error}\")\n",
        "            template = \"\"\"Previous query attempt failed with error: {error}.\n",
        "                           Please try generating a different SQL query for the question: {question}.\n",
        "                           Here is the database schema for reference: {schema}\n",
        "                           SQL query: \"\"\"\n",
        "            prompt = ChatPromptTemplate.from_template(template)\n",
        "            chain = prompt | llm\n",
        "            response = chain.invoke({  # Invoke the chain with the error message\n",
        "                \"question\": question,\n",
        "                \"schema\": getDatabaseSchema(),\n",
        "                \"error\": str(error)  # Pass the error message to the prompt\n",
        "            })\n",
        "            i -= 1\n",
        "\n",
        "    if response:  # Check if response has been assigned a value\n",
        "      # Check if the response indicates failure\n",
        "      if \"Failed to generate a valid query.\" in response.content:\n",
        "        return None  # Return None to signal query generation failure\n",
        "      else:\n",
        "        return response.content\n",
        "    else:\n",
        "        return None  # Return None if no response was generated\n",
        "\n",
        "\n",
        "def getResponseForQueryResult(question, query, result):\n",
        "    template2 = \"\"\"below is the schema of SQLite database, read the schema carefully about the table and column names of each table.\n",
        "    Also look into the conversation if available\n",
        "    Finally write a response in natural language by looking into the conversation and result.\n",
        "\n",
        "    {schema}\n",
        "\n",
        "    Here are some example for you:\n",
        "    question: how many albums we have in database\n",
        "    SQL query: SELECT COUNT(*) FROM album;\n",
        "    Result : [(34,)]\n",
        "    Response: There are 34 albums in the database.\n",
        "\n",
        "    question: how many users we have in database\n",
        "    SQL query: SELECT COUNT(*) FROM customer;\n",
        "    Result : [(59,)]\n",
        "    Response: There are 59 users in the database.\n",
        "\n",
        "    question: how many users above are from india we have in database\n",
        "    SQL query: SELECT COUNT(*) FROM customer WHERE country=india;\n",
        "    Result : [(4,)]\n",
        "    Response: There are 4 users in the database.\n",
        "\n",
        "    your turn to write response in natural language from the given result :\n",
        "    question: {question}\n",
        "    SQL query : {query}\n",
        "    Result : {result}\n",
        "    Response:\n",
        "    \"\"\"\n",
        "\n",
        "    prompt2 = ChatPromptTemplate.from_template(template2)\n",
        "    chain2 = prompt2 | llm\n",
        "\n",
        "    response = chain2.invoke({\n",
        "        \"question\": question,\n",
        "        \"schema\": getDatabaseSchema(),\n",
        "        \"query\": query,\n",
        "        \"result\": result\n",
        "    })\n",
        "\n",
        "    return response.content\n",
        "\n",
        "def chat_with_sqldb(question):\n",
        "  query = getQueryFromLLM(question)\n",
        "  if query:  # Check if a valid query was generated\n",
        "    print(query)\n",
        "    result = runQuery(query)\n",
        "    print(result)\n",
        "    response = getResponseForQueryResult(question, query, result)\n",
        "    print(response)\n",
        "  else:\n",
        "    print(\"The LLM couldn't generate a valid query for this question.\")\n"
      ],
      "metadata": {
        "id": "O3O-PLClbbt3"
      },
      "execution_count": 14,
      "outputs": []
    },
    {
      "cell_type": "code",
      "source": [
        "url = \"https://raw.githubusercontent.com/lerocha/chinook-database/master/ChinookDatabase/DataSources/Chinook_Sqlite.sql\"\n",
        "db = connectDatabase(url)"
      ],
      "metadata": {
        "id": "hJIKX2TQ1OBG"
      },
      "execution_count": 15,
      "outputs": []
    },
    {
      "cell_type": "code",
      "source": [
        "print(db.dialect)\n",
        "print(db.get_usable_table_names())\n",
        "db.run(\"SELECT * FROM Artist LIMIT 10;\")"
      ],
      "metadata": {
        "colab": {
          "base_uri": "https://localhost:8080/",
          "height": 110
        },
        "id": "vhXv-GiItgtH",
        "outputId": "2882d561-743d-4709-804f-b879c5cd588c"
      },
      "execution_count": 16,
      "outputs": [
        {
          "output_type": "stream",
          "name": "stdout",
          "text": [
            "sqlite\n",
            "['Album', 'Artist', 'Customer', 'Employee', 'Genre', 'Invoice', 'InvoiceLine', 'MediaType', 'Playlist', 'PlaylistTrack', 'Track']\n"
          ]
        },
        {
          "output_type": "execute_result",
          "data": {
            "text/plain": [
              "\"[(1, 'AC/DC'), (2, 'Accept'), (3, 'Aerosmith'), (4, 'Alanis Morissette'), (5, 'Alice In Chains'), (6, 'Antônio Carlos Jobim'), (7, 'Apocalyptica'), (8, 'Audioslave'), (9, 'BackBeat'), (10, 'Billy Cobham')]\""
            ],
            "application/vnd.google.colaboratory.intrinsic+json": {
              "type": "string"
            }
          },
          "metadata": {},
          "execution_count": 16
        }
      ]
    },
    {
      "cell_type": "code",
      "source": [
        "chat_with_sqldb(question = \"how many employees are there?\")"
      ],
      "metadata": {
        "id": "lc1silCUhl5M",
        "colab": {
          "base_uri": "https://localhost:8080/"
        },
        "outputId": "97bfb5fb-e258-46de-ba70-e59da4fc4f9c"
      },
      "execution_count": 17,
      "outputs": [
        {
          "output_type": "stream",
          "name": "stdout",
          "text": [
            "SELECT COUNT(*) FROM employee\n",
            "[(8,)]\n",
            "There are 8 employees.\n"
          ]
        }
      ]
    },
    {
      "cell_type": "code",
      "source": [
        "chat_with_sqldb(question = \"List the total sales per country. Which country's customers spent the most?\")"
      ],
      "metadata": {
        "colab": {
          "base_uri": "https://localhost:8080/"
        },
        "id": "vyqvcBaD1fXx",
        "outputId": "ceae84de-d093-4fca-94ea-af30bf1c8aae"
      },
      "execution_count": 18,
      "outputs": [
        {
          "output_type": "stream",
          "name": "stdout",
          "text": [
            "SELECT T2.Country, SUM(T1.Total) AS TotalSales \n",
            "FROM Invoice AS T1 \n",
            "INNER JOIN Customer AS T2 ON T1.CustomerId = T2.CustomerId \n",
            "GROUP BY T2.Country \n",
            "ORDER BY TotalSales DESC\n",
            "[('USA', 523.0600000000003), ('Canada', 303.9599999999999), ('France', 195.09999999999994), ('Brazil', 190.09999999999997), ('Germany', 156.48), ('United Kingdom', 112.85999999999999), ('Czech Republic', 90.24000000000001), ('Portugal', 77.23999999999998), ('India', 75.25999999999999), ('Chile', 46.62), ('Ireland', 45.62), ('Hungary', 45.62), ('Austria', 42.62), ('Finland', 41.620000000000005), ('Netherlands', 40.62), ('Norway', 39.62), ('Sweden', 38.620000000000005), ('Poland', 37.620000000000005), ('Italy', 37.620000000000005), ('Denmark', 37.620000000000005), ('Australia', 37.620000000000005), ('Argentina', 37.620000000000005), ('Spain', 37.62), ('Belgium', 37.62)]\n",
            "Here is the response in natural language:\n",
            "\n",
            "The total sales per country are as follows: USA ($523.06), Canada ($303.96), France ($195.10), Brazil ($190.10), Germany ($156.48), United Kingdom ($112.86), Czech Republic ($90.24), Portugal ($77.24), India ($75.26), Chile ($46.62), Ireland ($45.62), Hungary ($45.62), Austria ($42.62), Finland ($41.62), Netherlands ($40.62), Norway ($39.62), Sweden ($38.62), Poland ($37.62), Italy ($37.62), Denmark ($37.62), Australia ($37.62), Argentina ($37.62), Spain ($37.62), and Belgium ($37.62). The country with the highest total sales is USA, with a total of $523.06.\n"
          ]
        }
      ]
    },
    {
      "cell_type": "code",
      "source": [
        "chat_with_sqldb(question = \"How many albums does the artist called Lost produce?\")"
      ],
      "metadata": {
        "colab": {
          "base_uri": "https://localhost:8080/"
        },
        "id": "01WcHFo71hW2",
        "outputId": "10933e69-dbf6-421f-9cd5-1d53f45f4b54"
      },
      "execution_count": 19,
      "outputs": [
        {
          "output_type": "stream",
          "name": "stdout",
          "text": [
            "SELECT COUNT(T1.AlbumId) FROM Album AS T1 INNER JOIN Artist AS T2 ON T1.ArtistId = T2.ArtistId WHERE T2.Name = 'Lost'\n",
            "[(4,)]\n",
            "There are 4 albums produced by the artist called Lost.\n"
          ]
        }
      ]
    },
    {
      "cell_type": "code",
      "source": [
        "chat_with_sqldb(question = \"Describe the playlisttrack table\")"
      ],
      "metadata": {
        "colab": {
          "base_uri": "https://localhost:8080/"
        },
        "id": "6IEUGKud1j9J",
        "outputId": "9edb9d0e-ca9c-4864-a6d3-c773ee157710"
      },
      "execution_count": 20,
      "outputs": [
        {
          "output_type": "stream",
          "name": "stdout",
          "text": [
            "Error encountered: (sqlite3.OperationalError) near \"DESCRIBE\": syntax error\n",
            "[SQL: DESCRIBE PlaylistTrack]\n",
            "(Background on this error at: https://sqlalche.me/e/20/e3q8)\n",
            "SELECT T1.Name FROM MediaType AS T1 INNER JOIN Track AS T2 ON T1.MediaTypeId = T2.MediaTypeId WHERE T2.Composer IS NULL\n",
            "[('MPEG audio file',), ('MPEG audio file',), ('MPEG audio file',), ('MPEG audio file',), ('MPEG audio file',), ('MPEG audio file',), ('MPEG audio file',), ('MPEG audio file',), ('MPEG audio file',), ('MPEG audio file',), ('MPEG audio file',), ('MPEG audio file',), ('MPEG audio file',), ('MPEG audio file',), ('MPEG audio file',), ('MPEG audio file',), ('MPEG audio file',), ('MPEG audio file',), ('MPEG audio file',), ('MPEG audio file',), ('MPEG audio file',), ('MPEG audio file',), ('MPEG audio file',), ('MPEG audio file',), ('MPEG audio file',), ('MPEG audio file',), ('MPEG audio file',), ('MPEG audio file',), ('MPEG audio file',), ('MPEG audio file',), ('MPEG audio file',), ('MPEG audio file',), ('MPEG audio file',), ('MPEG audio file',), ('MPEG audio file',), ('MPEG audio file',), ('MPEG audio file',), ('MPEG audio file',), ('MPEG audio file',), ('MPEG audio file',), ('MPEG audio file',), ('MPEG audio file',), ('MPEG audio file',), ('MPEG audio file',), ('MPEG audio file',), ('MPEG audio file',), ('MPEG audio file',), ('MPEG audio file',), ('MPEG audio file',), ('MPEG audio file',), ('MPEG audio file',), ('MPEG audio file',), ('MPEG audio file',), ('MPEG audio file',), ('MPEG audio file',), ('MPEG audio file',), ('MPEG audio file',), ('MPEG audio file',), ('MPEG audio file',), ('MPEG audio file',), ('MPEG audio file',), ('MPEG audio file',), ('MPEG audio file',), ('MPEG audio file',), ('MPEG audio file',), ('MPEG audio file',), ('MPEG audio file',), ('MPEG audio file',), ('MPEG audio file',), ('MPEG audio file',), ('MPEG audio file',), ('MPEG audio file',), ('MPEG audio file',), ('MPEG audio file',), ('MPEG audio file',), ('MPEG audio file',), ('MPEG audio file',), ('MPEG audio file',), ('MPEG audio file',), ('MPEG audio file',), ('MPEG audio file',), ('MPEG audio file',), ('MPEG audio file',), ('MPEG audio file',), ('MPEG audio file',), ('MPEG audio file',), ('MPEG audio file',), ('MPEG audio file',), ('MPEG audio file',), ('MPEG audio file',), ('MPEG audio file',), ('MPEG audio file',), ('MPEG audio file',), ('MPEG audio file',), ('MPEG audio file',), ('MPEG audio file',), ('MPEG audio file',), ('MPEG audio file',), ('MPEG audio file',), ('MPEG audio file',), ('MPEG audio file',), ('MPEG audio file',), ('MPEG audio file',), ('MPEG audio file',), ('MPEG audio file',), ('MPEG audio file',), ('MPEG audio file',), ('MPEG audio file',), ('MPEG audio file',), ('MPEG audio file',), ('MPEG audio file',), ('MPEG audio file',), ('MPEG audio file',), ('MPEG audio file',), ('MPEG audio file',), ('MPEG audio file',), ('MPEG audio file',), ('MPEG audio file',), ('MPEG audio file',), ('MPEG audio file',), ('MPEG audio file',), ('MPEG audio file',), ('MPEG audio file',), ('MPEG audio file',), ('MPEG audio file',), ('MPEG audio file',), ('MPEG audio file',), ('MPEG audio file',), ('MPEG audio file',), ('MPEG audio file',), ('MPEG audio file',), ('MPEG audio file',), ('MPEG audio file',), ('MPEG audio file',), ('MPEG audio file',), ('MPEG audio file',), ('MPEG audio file',), ('MPEG audio file',), ('MPEG audio file',), ('MPEG audio file',), ('MPEG audio file',), ('MPEG audio file',), ('MPEG audio file',), ('MPEG audio file',), ('MPEG audio file',), ('MPEG audio file',), ('MPEG audio file',), ('MPEG audio file',), ('MPEG audio file',), ('MPEG audio file',), ('MPEG audio file',), ('MPEG audio file',), ('MPEG audio file',), ('MPEG audio file',), ('MPEG audio file',), ('MPEG audio file',), ('MPEG audio file',), ('MPEG audio file',), ('MPEG audio file',), ('MPEG audio file',), ('MPEG audio file',), ('MPEG audio file',), ('MPEG audio file',), ('MPEG audio file',), ('MPEG audio file',), ('MPEG audio file',), ('MPEG audio file',), ('MPEG audio file',), ('MPEG audio file',), ('MPEG audio file',), ('MPEG audio file',), ('MPEG audio file',), ('MPEG audio file',), ('MPEG audio file',), ('MPEG audio file',), ('MPEG audio file',), ('MPEG audio file',), ('MPEG audio file',), ('MPEG audio file',), ('MPEG audio file',), ('MPEG audio file',), ('MPEG audio file',), ('MPEG audio file',), ('MPEG audio file',), ('MPEG audio file',), ('MPEG audio file',), ('MPEG audio file',), ('MPEG audio file',), ('MPEG audio file',), ('MPEG audio file',), ('MPEG audio file',), ('MPEG audio file',), ('MPEG audio file',), ('MPEG audio file',), ('MPEG audio file',), ('MPEG audio file',), ('MPEG audio file',), ('MPEG audio file',), ('MPEG audio file',), ('MPEG audio file',), ('MPEG audio file',), ('MPEG audio file',), ('MPEG audio file',), ('MPEG audio file',), ('MPEG audio file',), ('MPEG audio file',), ('MPEG audio file',), ('MPEG audio file',), ('MPEG audio file',), ('MPEG audio file',), ('MPEG audio file',), ('MPEG audio file',), ('MPEG audio file',), ('MPEG audio file',), ('MPEG audio file',), ('MPEG audio file',), ('MPEG audio file',), ('MPEG audio file',), ('MPEG audio file',), ('MPEG audio file',), ('MPEG audio file',), ('MPEG audio file',), ('MPEG audio file',), ('MPEG audio file',), ('MPEG audio file',), ('MPEG audio file',), ('MPEG audio file',), ('MPEG audio file',), ('MPEG audio file',), ('MPEG audio file',), ('MPEG audio file',), ('MPEG audio file',), ('MPEG audio file',), ('MPEG audio file',), ('MPEG audio file',), ('MPEG audio file',), ('MPEG audio file',), ('MPEG audio file',), ('MPEG audio file',), ('MPEG audio file',), ('MPEG audio file',), ('MPEG audio file',), ('MPEG audio file',), ('MPEG audio file',), ('MPEG audio file',), ('MPEG audio file',), ('MPEG audio file',), ('MPEG audio file',), ('MPEG audio file',), ('MPEG audio file',), ('MPEG audio file',), ('MPEG audio file',), ('MPEG audio file',), ('MPEG audio file',), ('MPEG audio file',), ('MPEG audio file',), ('MPEG audio file',), ('MPEG audio file',), ('MPEG audio file',), ('MPEG audio file',), ('MPEG audio file',), ('MPEG audio file',), ('MPEG audio file',), ('MPEG audio file',), ('MPEG audio file',), ('MPEG audio file',), ('MPEG audio file',), ('MPEG audio file',), ('MPEG audio file',), ('MPEG audio file',), ('MPEG audio file',), ('MPEG audio file',), ('MPEG audio file',), ('MPEG audio file',), ('MPEG audio file',), ('MPEG audio file',), ('MPEG audio file',), ('MPEG audio file',), ('MPEG audio file',), ('MPEG audio file',), ('MPEG audio file',), ('MPEG audio file',), ('MPEG audio file',), ('MPEG audio file',), ('MPEG audio file',), ('MPEG audio file',), ('MPEG audio file',), ('MPEG audio file',), ('MPEG audio file',), ('MPEG audio file',), ('MPEG audio file',), ('MPEG audio file',), ('MPEG audio file',), ('MPEG audio file',), ('MPEG audio file',), ('MPEG audio file',), ('MPEG audio file',), ('MPEG audio file',), ('MPEG audio file',), ('MPEG audio file',), ('MPEG audio file',), ('MPEG audio file',), ('MPEG audio file',), ('MPEG audio file',), ('MPEG audio file',), ('MPEG audio file',), ('MPEG audio file',), ('MPEG audio file',), ('MPEG audio file',), ('MPEG audio file',), ('MPEG audio file',), ('MPEG audio file',), ('MPEG audio file',), ('MPEG audio file',), ('MPEG audio file',), ('MPEG audio file',), ('MPEG audio file',), ('MPEG audio file',), ('MPEG audio file',), ('MPEG audio file',), ('MPEG audio file',), ('MPEG audio file',), ('MPEG audio file',), ('MPEG audio file',), ('MPEG audio file',), ('MPEG audio file',), ('MPEG audio file',), ('MPEG audio file',), ('MPEG audio file',), ('MPEG audio file',), ('MPEG audio file',), ('MPEG audio file',), ('MPEG audio file',), ('MPEG audio file',), ('MPEG audio file',), ('MPEG audio file',), ('MPEG audio file',), ('MPEG audio file',), ('MPEG audio file',), ('MPEG audio file',), ('MPEG audio file',), ('MPEG audio file',), ('MPEG audio file',), ('MPEG audio file',), ('MPEG audio file',), ('MPEG audio file',), ('MPEG audio file',), ('MPEG audio file',), ('MPEG audio file',), ('MPEG audio file',), ('MPEG audio file',), ('Protected AAC audio file',), ('Protected AAC audio file',), ('Protected AAC audio file',), ('Protected AAC audio file',), ('Protected AAC audio file',), ('Protected AAC audio file',), ('Protected AAC audio file',), ('Protected AAC audio file',), ('Protected AAC audio file',), ('Protected AAC audio file',), ('Protected AAC audio file',), ('Protected AAC audio file',), ('Protected AAC audio file',), ('Protected AAC audio file',), ('Protected AAC audio file',), ('Protected AAC audio file',), ('Protected AAC audio file',), ('Protected AAC audio file',), ('Protected AAC audio file',), ('Protected AAC audio file',), ('Protected AAC audio file',), ('Protected AAC audio file',), ('Protected AAC audio file',), ('Protected AAC audio file',), ('Protected AAC audio file',), ('Protected AAC audio file',), ('Protected AAC audio file',), ('Protected AAC audio file',), ('Protected AAC audio file',), ('Protected AAC audio file',), ('Protected AAC audio file',), ('Protected AAC audio file',), ('Protected AAC audio file',), ('Protected AAC audio file',), ('Protected AAC audio file',), ('Protected AAC audio file',), ('Protected AAC audio file',), ('Protected AAC audio file',), ('Protected AAC audio file',), ('MPEG audio file',), ('MPEG audio file',), ('MPEG audio file',), ('MPEG audio file',), ('MPEG audio file',), ('MPEG audio file',), ('MPEG audio file',), ('MPEG audio file',), ('MPEG audio file',), ('MPEG audio file',), ('MPEG audio file',), ('MPEG audio file',), ('MPEG audio file',), ('MPEG audio file',), ('MPEG audio file',), ('MPEG audio file',), ('MPEG audio file',), ('MPEG audio file',), ('MPEG audio file',), ('MPEG audio file',), ('MPEG audio file',), ('MPEG audio file',), ('MPEG audio file',), ('MPEG audio file',), ('MPEG audio file',), ('Protected AAC audio file',), ('Protected AAC audio file',), ('Protected AAC audio file',), ('Protected AAC audio file',), ('Protected AAC audio file',), ('Protected AAC audio file',), ('MPEG audio file',), ('MPEG audio file',), ('MPEG audio file',), ('MPEG audio file',), ('MPEG audio file',), ('MPEG audio file',), ('MPEG audio file',), ('MPEG audio file',), ('MPEG audio file',), ('MPEG audio file',), ('MPEG audio file',), ('MPEG audio file',), ('MPEG audio file',), ('MPEG audio file',), ('MPEG audio file',), ('MPEG audio file',), ('MPEG audio file',), ('MPEG audio file',), ('MPEG audio file',), ('MPEG audio file',), ('MPEG audio file',), ('MPEG audio file',), ('MPEG audio file',), ('MPEG audio file',), ('MPEG audio file',), ('MPEG audio file',), ('MPEG audio file',), ('MPEG audio file',), ('MPEG audio file',), ('MPEG audio file',), ('MPEG audio file',), ('MPEG audio file',), ('MPEG audio file',), ('MPEG audio file',), ('MPEG audio file',), ('MPEG audio file',), ('MPEG audio file',), ('MPEG audio file',), ('MPEG audio file',), ('MPEG audio file',), ('MPEG audio file',), ('MPEG audio file',), ('MPEG audio file',), ('MPEG audio file',), ('MPEG audio file',), ('MPEG audio file',), ('MPEG audio file',), ('MPEG audio file',), ('MPEG audio file',), ('MPEG audio file',), ('MPEG audio file',), ('MPEG audio file',), ('MPEG audio file',), ('MPEG audio file',), ('MPEG audio file',), ('MPEG audio file',), ('MPEG audio file',), ('MPEG audio file',), ('MPEG audio file',), ('MPEG audio file',), ('MPEG audio file',), ('MPEG audio file',), ('MPEG audio file',), ('MPEG audio file',), ('MPEG audio file',), ('MPEG audio file',), ('MPEG audio file',), ('MPEG audio file',), ('MPEG audio file',), ('MPEG audio file',), ('MPEG audio file',), ('MPEG audio file',), ('MPEG audio file',), ('MPEG audio file',), ('MPEG audio file',), ('MPEG audio file',), ('MPEG audio file',), ('MPEG audio file',), ('MPEG audio file',), ('MPEG audio file',), ('MPEG audio file',), ('MPEG audio file',), ('MPEG audio file',), ('MPEG audio file',), ('MPEG audio file',), ('MPEG audio file',), ('MPEG audio file',), ('MPEG audio file',), ('MPEG audio file',), ('MPEG audio file',), ('MPEG audio file',), ('MPEG audio file',), ('MPEG audio file',), ('MPEG audio file',), ('MPEG audio file',), ('MPEG audio file',), ('MPEG audio file',), ('MPEG audio file',), ('MPEG audio file',), ('MPEG audio file',), ('MPEG audio file',), ('MPEG audio file',), ('MPEG audio file',), ('MPEG audio file',), ('MPEG audio file',), ('MPEG audio file',), ('MPEG audio file',), ('MPEG audio file',), ('MPEG audio file',), ('MPEG audio file',), ('MPEG audio file',), ('MPEG audio file',), ('MPEG audio file',), ('MPEG audio file',), ('MPEG audio file',), ('MPEG audio file',), ('MPEG audio file',), ('MPEG audio file',), ('MPEG audio file',), ('MPEG audio file',), ('MPEG audio file',), ('MPEG audio file',), ('MPEG audio file',), ('MPEG audio file',), ('MPEG audio file',), ('MPEG audio file',), ('MPEG audio file',), ('MPEG audio file',), ('MPEG audio file',), ('MPEG audio file',), ('MPEG audio file',), ('MPEG audio file',), ('MPEG audio file',), ('MPEG audio file',), ('MPEG audio file',), ('MPEG audio file',), ('MPEG audio file',), ('MPEG audio file',), ('MPEG audio file',), ('MPEG audio file',), ('MPEG audio file',), ('MPEG audio file',), ('MPEG audio file',), ('MPEG audio file',), ('MPEG audio file',), ('MPEG audio file',), ('MPEG audio file',), ('MPEG audio file',), ('MPEG audio file',), ('MPEG audio file',), ('MPEG audio file',), ('MPEG audio file',), ('MPEG audio file',), ('MPEG audio file',), ('MPEG audio file',), ('MPEG audio file',), ('MPEG audio file',), ('MPEG audio file',), ('MPEG audio file',), ('MPEG audio file',), ('MPEG audio file',), ('MPEG audio file',), ('MPEG audio file',), ('MPEG audio file',), ('MPEG audio file',), ('MPEG audio file',), ('MPEG audio file',), ('MPEG audio file',), ('MPEG audio file',), ('MPEG audio file',), ('MPEG audio file',), ('MPEG audio file',), ('MPEG audio file',), ('MPEG audio file',), ('MPEG audio file',), ('MPEG audio file',), ('MPEG audio file',), ('MPEG audio file',), ('MPEG audio file',), ('MPEG audio file',), ('MPEG audio file',), ('MPEG audio file',), ('MPEG audio file',), ('MPEG audio file',), ('MPEG audio file',), ('MPEG audio file',), ('MPEG audio file',), ('MPEG audio file',), ('MPEG audio file',), ('MPEG audio file',), ('MPEG audio file',), ('MPEG audio file',), ('MPEG audio file',), ('MPEG audio file',), ('MPEG audio file',), ('MPEG audio file',), ('MPEG audio file',), ('MPEG audio file',), ('MPEG audio file',), ('MPEG audio file',), ('MPEG audio file',), ('MPEG audio file',), ('MPEG audio file',), ('MPEG audio file',), ('MPEG audio file',), ('MPEG audio file',), ('MPEG audio file',), ('Protected MPEG-4 video file',), ('Protected MPEG-4 video file',), ('Protected MPEG-4 video file',), ('Protected MPEG-4 video file',), ('Protected MPEG-4 video file',), ('Protected MPEG-4 video file',), ('Protected MPEG-4 video file',), ('Protected MPEG-4 video file',), ('Protected MPEG-4 video file',), ('Protected MPEG-4 video file',), ('Protected MPEG-4 video file',), ('Protected MPEG-4 video file',), ('Protected MPEG-4 video file',), ('Protected MPEG-4 video file',), ('Protected MPEG-4 video file',), ('Protected MPEG-4 video file',), ('Protected MPEG-4 video file',), ('Protected MPEG-4 video file',), ('Protected MPEG-4 video file',), ('Protected MPEG-4 video file',), ('Protected MPEG-4 video file',), ('Protected MPEG-4 video file',), ('Protected MPEG-4 video file',), ('Protected MPEG-4 video file',), ('Protected MPEG-4 video file',), ('Protected MPEG-4 video file',), ('Protected MPEG-4 video file',), ('Protected MPEG-4 video file',), ('Protected MPEG-4 video file',), ('Protected MPEG-4 video file',), ('Protected MPEG-4 video file',), ('Protected MPEG-4 video file',), ('Protected MPEG-4 video file',), ('Protected MPEG-4 video file',), ('Protected MPEG-4 video file',), ('Protected MPEG-4 video file',), ('Protected MPEG-4 video file',), ('Protected MPEG-4 video file',), ('Protected MPEG-4 video file',), ('Protected MPEG-4 video file',), ('Protected MPEG-4 video file',), ('Protected MPEG-4 video file',), ('Protected MPEG-4 video file',), ('Protected MPEG-4 video file',), ('Protected MPEG-4 video file',), ('Protected MPEG-4 video file',), ('Protected MPEG-4 video file',), ('Protected MPEG-4 video file',), ('Protected MPEG-4 video file',), ('Protected MPEG-4 video file',), ('Protected MPEG-4 video file',), ('Protected MPEG-4 video file',), ('Protected MPEG-4 video file',), ('Protected MPEG-4 video file',), ('Protected MPEG-4 video file',), ('Protected MPEG-4 video file',), ('Protected MPEG-4 video file',), ('Protected MPEG-4 video file',), ('Protected MPEG-4 video file',), ('Protected MPEG-4 video file',), ('Protected MPEG-4 video file',), ('Protected MPEG-4 video file',), ('Protected MPEG-4 video file',), ('Protected MPEG-4 video file',), ('Protected MPEG-4 video file',), ('Protected MPEG-4 video file',), ('Protected MPEG-4 video file',), ('Protected MPEG-4 video file',), ('Protected MPEG-4 video file',), ('Protected MPEG-4 video file',), ('Protected MPEG-4 video file',), ('Protected MPEG-4 video file',), ('Protected MPEG-4 video file',), ('Protected MPEG-4 video file',), ('Protected MPEG-4 video file',), ('Protected MPEG-4 video file',), ('Protected MPEG-4 video file',), ('Protected MPEG-4 video file',), ('Protected MPEG-4 video file',), ('Protected MPEG-4 video file',), ('Protected MPEG-4 video file',), ('Protected MPEG-4 video file',), ('Protected MPEG-4 video file',), ('Protected MPEG-4 video file',), ('Protected MPEG-4 video file',), ('Protected MPEG-4 video file',), ('Protected MPEG-4 video file',), ('Protected MPEG-4 video file',), ('Protected MPEG-4 video file',), ('Protected MPEG-4 video file',), ('Protected MPEG-4 video file',), ('Protected MPEG-4 video file',), ('Protected MPEG-4 video file',), ('Protected MPEG-4 video file',), ('Protected MPEG-4 video file',), ('Protected MPEG-4 video file',), ('Protected MPEG-4 video file',), ('Protected MPEG-4 video file',), ('Protected MPEG-4 video file',), ('Protected MPEG-4 video file',), ('Protected MPEG-4 video file',), ('Protected MPEG-4 video file',), ('Protected MPEG-4 video file',), ('Protected MPEG-4 video file',), ('Protected MPEG-4 video file',), ('Protected MPEG-4 video file',), ('Protected MPEG-4 video file',), ('MPEG audio file',), ('MPEG audio file',), ('MPEG audio file',), ('MPEG audio file',), ('MPEG audio file',), ('MPEG audio file',), ('MPEG audio file',), ('MPEG audio file',), ('MPEG audio file',), ('MPEG audio file',), ('MPEG audio file',), ('MPEG audio file',), ('MPEG audio file',), ('MPEG audio file',), ('MPEG audio file',), ('MPEG audio file',), ('MPEG audio file',), ('MPEG audio file',), ('MPEG audio file',), ('MPEG audio file',), ('MPEG audio file',), ('MPEG audio file',), ('MPEG audio file',), ('MPEG audio file',), ('MPEG audio file',), ('MPEG audio file',), ('MPEG audio file',), ('MPEG audio file',), ('MPEG audio file',), ('Protected MPEG-4 video file',), ('Protected MPEG-4 video file',), ('Protected MPEG-4 video file',), ('Protected MPEG-4 video file',), ('Protected MPEG-4 video file',), ('Protected MPEG-4 video file',), ('Protected MPEG-4 video file',), ('Protected MPEG-4 video file',), ('Protected MPEG-4 video file',), ('Protected MPEG-4 video file',), ('Protected MPEG-4 video file',), ('Protected MPEG-4 video file',), ('Protected MPEG-4 video file',), ('Protected MPEG-4 video file',), ('Protected MPEG-4 video file',), ('Protected MPEG-4 video file',), ('Protected MPEG-4 video file',), ('Protected MPEG-4 video file',), ('Protected MPEG-4 video file',), ('Protected MPEG-4 video file',), ('Protected MPEG-4 video file',), ('Protected MPEG-4 video file',), ('Protected MPEG-4 video file',), ('Protected MPEG-4 video file',), ('Protected MPEG-4 video file',), ('Protected MPEG-4 video file',), ('Protected MPEG-4 video file',), ('Protected MPEG-4 video file',), ('Protected MPEG-4 video file',), ('Protected MPEG-4 video file',), ('Protected MPEG-4 video file',), ('Protected MPEG-4 video file',), ('Protected MPEG-4 video file',), ('Protected MPEG-4 video file',), ('Protected MPEG-4 video file',), ('Protected MPEG-4 video file',), ('Protected MPEG-4 video file',), ('Protected MPEG-4 video file',), ('Protected MPEG-4 video file',), ('Protected MPEG-4 video file',), ('Protected MPEG-4 video file',), ('Protected MPEG-4 video file',), ('Protected MPEG-4 video file',), ('Protected MPEG-4 video file',), ('Protected MPEG-4 video file',), ('Protected MPEG-4 video file',), ('Protected MPEG-4 video file',), ('Protected MPEG-4 video file',), ('Protected MPEG-4 video file',), ('Protected MPEG-4 video file',), ('Protected MPEG-4 video file',), ('Protected MPEG-4 video file',), ('Protected MPEG-4 video file',), ('Protected MPEG-4 video file',), ('Protected MPEG-4 video file',), ('Protected MPEG-4 video file',), ('Protected MPEG-4 video file',), ('Protected MPEG-4 video file',), ('Protected MPEG-4 video file',), ('Protected MPEG-4 video file',), ('Protected MPEG-4 video file',), ('Protected MPEG-4 video file',), ('Protected MPEG-4 video file',), ('Protected MPEG-4 video file',), ('Protected MPEG-4 video file',), ('Protected MPEG-4 video file',), ('Protected MPEG-4 video file',), ('Protected MPEG-4 video file',), ('Protected MPEG-4 video file',), ('Protected MPEG-4 video file',), ('Protected MPEG-4 video file',), ('Protected MPEG-4 video file',), ('Protected MPEG-4 video file',), ('Protected MPEG-4 video file',), ('Protected MPEG-4 video file',), ('Protected MPEG-4 video file',), ('Protected MPEG-4 video file',), ('Protected MPEG-4 video file',), ('Protected MPEG-4 video file',), ('Protected MPEG-4 video file',), ('Protected MPEG-4 video file',), ('Protected MPEG-4 video file',), ('Protected MPEG-4 video file',), ('Protected MPEG-4 video file',), ('Protected MPEG-4 video file',), ('Protected MPEG-4 video file',), ('Protected MPEG-4 video file',), ('Protected AAC audio file',), ('Protected AAC audio file',), ('Protected AAC audio file',), ('Protected AAC audio file',), ('Protected AAC audio file',), ('Protected AAC audio file',), ('Protected AAC audio file',), ('Protected AAC audio file',), ('Protected AAC audio file',), ('Protected AAC audio file',), ('Protected AAC audio file',), ('Protected AAC audio file',), ('Protected AAC audio file',), ('Protected AAC audio file',), ('Protected AAC audio file',), ('Protected AAC audio file',), ('Protected AAC audio file',), ('Protected AAC audio file',), ('Protected AAC audio file',), ('Protected AAC audio file',), ('Protected AAC audio file',), ('Protected AAC audio file',), ('Protected AAC audio file',), ('Protected AAC audio file',), ('Protected AAC audio file',), ('Protected AAC audio file',), ('Protected AAC audio file',), ('Protected AAC audio file',), ('Protected AAC audio file',), ('Protected AAC audio file',), ('Protected AAC audio file',), ('Protected AAC audio file',), ('Protected AAC audio file',), ('Protected AAC audio file',), ('Protected AAC audio file',), ('Protected AAC audio file',), ('Protected AAC audio file',), ('Protected AAC audio file',), ('Protected AAC audio file',), ('Protected AAC audio file',), ('Protected AAC audio file',), ('Protected AAC audio file',), ('Protected AAC audio file',), ('Protected AAC audio file',), ('Protected AAC audio file',), ('Protected AAC audio file',), ('Protected AAC audio file',), ('MPEG audio file',), ('MPEG audio file',), ('MPEG audio file',), ('MPEG audio file',), ('MPEG audio file',), ('MPEG audio file',), ('MPEG audio file',), ('MPEG audio file',), ('MPEG audio file',), ('MPEG audio file',), ('MPEG audio file',), ('MPEG audio file',), ('MPEG audio file',), ('MPEG audio file',), ('MPEG audio file',), ('MPEG audio file',), ('MPEG audio file',), ('Purchased AAC audio file',), ('Protected MPEG-4 video file',), ('Protected MPEG-4 video file',), ('Protected MPEG-4 video file',), ('Protected MPEG-4 video file',), ('Protected MPEG-4 video file',), ('Protected MPEG-4 video file',), ('Protected MPEG-4 video file',), ('Protected MPEG-4 video file',), ('Protected MPEG-4 video file',), ('Protected MPEG-4 video file',), ('Protected MPEG-4 video file',), ('Protected MPEG-4 video file',), ('Protected MPEG-4 video file',), ('Protected MPEG-4 video file',), ('Protected MPEG-4 video file',), ('Protected MPEG-4 video file',), ('Protected MPEG-4 video file',), ('Protected AAC audio file',), ('Protected AAC audio file',), ('Protected AAC audio file',), ('Protected AAC audio file',), ('Protected AAC audio file',), ('Protected AAC audio file',), ('Protected AAC audio file',), ('Protected AAC audio file',), ('Protected AAC audio file',), ('Protected AAC audio file',), ('Protected AAC audio file',), ('Protected AAC audio file',), ('Protected AAC audio file',), ('Protected AAC audio file',), ('Protected AAC audio file',), ('Protected AAC audio file',), ('Protected AAC audio file',), ('Protected AAC audio file',), ('Protected AAC audio file',), ('Protected AAC audio file',), ('Protected AAC audio file',), ('Protected AAC audio file',), ('Protected AAC audio file',), ('Protected MPEG-4 video file',), ('Protected MPEG-4 video file',), ('Protected MPEG-4 video file',), ('Protected AAC audio file',), ('Purchased AAC audio file',), ('Protected AAC audio file',), ('Protected AAC audio file',), ('Protected AAC audio file',), ('Protected AAC audio file',), ('Protected AAC audio file',), ('Protected AAC audio file',), ('Protected AAC audio file',), ('Protected AAC audio file',), ('Protected AAC audio file',), ('Protected AAC audio file',), ('Protected AAC audio file',), ('Protected AAC audio file',), ('Protected AAC audio file',), ('Purchased AAC audio file',), ('Protected AAC audio file',), ('Protected AAC audio file',)]\n",
            "The bug in this code is that the `file_type` variable is being overwritten on each iteration of the loop, which means it will only hold the value from the last iteration. This is because the `file_type` variable is not inside a list or other data structure that can hold multiple values.\n",
            "\n",
            "Here's how you could modify the code to fix this bug:\n",
            "\n",
            "```python\n",
            "import sqlite3\n",
            "\n",
            "# Connect to SQLite database. It will be created if it doesn't exist.\n",
            "conn = sqlite3.connect('music.db')\n",
            "\n",
            "# Create a cursor object\n",
            "cur = conn.cursor()\n",
            "\n",
            "# Query The Media Table\n",
            "cur.execute(\"SELECT file_format FROM media\")\n",
            "\n",
            "rows = cur.fetchall()\n",
            "file_types = [row[0] for row in rows]\n",
            "\n",
            "for file_type in file_types:\n",
            "    print(file_type)\n",
            "\n",
            "# Close the connection\n",
            "conn.close()\n",
            "```\n",
            "\n",
            "In this modified code, we first fetch all the rows from the query and then use a list comprehension to create a list of `file_format` values. We can then iterate over this list to print each value.\n",
            "\n",
            "Alternatively, you could also directly iterate over the `cur.fetchall()` result without creating an intermediate list:\n",
            "\n",
            "```python\n",
            "import sqlite3\n",
            "\n",
            "# Connect to SQLite database. It will be created if it doesn't exist.\n",
            "conn = sqlite3.connect('music.db')\n",
            "\n",
            "# Create a cursor object\n",
            "cur = conn.cursor()\n",
            "\n",
            "# Query The Media Table\n",
            "cur.execute(\"SELECT file_format FROM media\")\n",
            "\n",
            "for row in cur.fetchall():\n",
            "    print(row[0])\n",
            "\n",
            "# Close the connection\n",
            "conn.close()\n",
            "```\n"
          ]
        }
      ]
    },
    {
      "cell_type": "code",
      "source": [
        "chat_with_sqldb(question = \"Describe the database and list the names of the tables.\")"
      ],
      "metadata": {
        "colab": {
          "base_uri": "https://localhost:8080/"
        },
        "id": "uQnqUjA01l2v",
        "outputId": "3703b2e0-0a8a-40cf-8453-40bde7988314"
      },
      "execution_count": 21,
      "outputs": [
        {
          "output_type": "stream",
          "name": "stdout",
          "text": [
            "SELECT name, sql \n",
            "FROM sqlite_master \n",
            "WHERE type='table'\n",
            "[('Album', 'CREATE TABLE [Album]\\r\\n(\\r\\n    [AlbumId] INTEGER  NOT NULL,\\r\\n    [Title] NVARCHAR(160)  NOT NULL,\\r\\n    [ArtistId] INTEGER  NOT NULL,\\r\\n    CONSTRAINT [PK_Album] PRIMARY KEY  ([AlbumId]),\\r\\n    FOREIGN KEY ([ArtistId]) REFERENCES [Artist] ([ArtistId]) \\r\\n\\t\\tON DELETE NO ACTION ON UPDATE NO ACTION\\r\\n)'), ('Artist', 'CREATE TABLE [Artist]\\r\\n(\\r\\n    [ArtistId] INTEGER  NOT NULL,\\r\\n    [Name] NVARCHAR(120),\\r\\n    CONSTRAINT [PK_Artist] PRIMARY KEY  ([ArtistId])\\r\\n)'), ('Customer', 'CREATE TABLE [Customer]\\r\\n(\\r\\n    [CustomerId] INTEGER  NOT NULL,\\r\\n    [FirstName] NVARCHAR(40)  NOT NULL,\\r\\n    [LastName] NVARCHAR(20)  NOT NULL,\\r\\n    [Company] NVARCHAR(80),\\r\\n    [Address] NVARCHAR(70),\\r\\n    [City] NVARCHAR(40),\\r\\n    [State] NVARCHAR(40),\\r\\n    [Country] NVARCHAR(40),\\r\\n   ...'), ('Employee', 'CREATE TABLE [Employee]\\r\\n(\\r\\n    [EmployeeId] INTEGER  NOT NULL,\\r\\n    [LastName] NVARCHAR(20)  NOT NULL,\\r\\n    [FirstName] NVARCHAR(20)  NOT NULL,\\r\\n    [Title] NVARCHAR(30),\\r\\n    [ReportsTo] INTEGER,\\r\\n    [BirthDate] DATETIME,\\r\\n    [HireDate] DATETIME,\\r\\n    [Address] NVARCHAR(70),\\r\\n    [City]...'), ('Genre', 'CREATE TABLE [Genre]\\r\\n(\\r\\n    [GenreId] INTEGER  NOT NULL,\\r\\n    [Name] NVARCHAR(120),\\r\\n    CONSTRAINT [PK_Genre] PRIMARY KEY  ([GenreId])\\r\\n)'), ('Invoice', 'CREATE TABLE [Invoice]\\r\\n(\\r\\n    [InvoiceId] INTEGER  NOT NULL,\\r\\n    [CustomerId] INTEGER  NOT NULL,\\r\\n    [InvoiceDate] DATETIME  NOT NULL,\\r\\n    [BillingAddress] NVARCHAR(70),\\r\\n    [BillingCity] NVARCHAR(40),\\r\\n    [BillingState] NVARCHAR(40),\\r\\n    [BillingCountry] NVARCHAR(40),\\r\\n   ...'), ('InvoiceLine', 'CREATE TABLE [InvoiceLine]\\r\\n(\\r\\n    [InvoiceLineId] INTEGER  NOT NULL,\\r\\n    [InvoiceId] INTEGER  NOT NULL,\\r\\n    [TrackId] INTEGER  NOT NULL,\\r\\n    [UnitPrice] NUMERIC(10,2)  NOT NULL,\\r\\n    [Quantity] INTEGER  NOT NULL,\\r\\n    CONSTRAINT [PK_InvoiceLine] PRIMARY KEY  ([InvoiceLineId]),\\r\\n    FOREIGN...'), ('MediaType', 'CREATE TABLE [MediaType]\\r\\n(\\r\\n    [MediaTypeId] INTEGER  NOT NULL,\\r\\n    [Name] NVARCHAR(120),\\r\\n    CONSTRAINT [PK_MediaType] PRIMARY KEY  ([MediaTypeId])\\r\\n)'), ('Playlist', 'CREATE TABLE [Playlist]\\r\\n(\\r\\n    [PlaylistId] INTEGER  NOT NULL,\\r\\n    [Name] NVARCHAR(120),\\r\\n    CONSTRAINT [PK_Playlist] PRIMARY KEY  ([PlaylistId])\\r\\n)'), ('PlaylistTrack', 'CREATE TABLE [PlaylistTrack]\\r\\n(\\r\\n    [PlaylistId] INTEGER  NOT NULL,\\r\\n    [TrackId] INTEGER  NOT NULL,\\r\\n    CONSTRAINT [PK_PlaylistTrack] PRIMARY KEY  ([PlaylistId], [TrackId]),\\r\\n    FOREIGN KEY ([PlaylistId]) REFERENCES [Playlist] ([PlaylistId]) \\r\\n\\t\\tON DELETE NO ACTION ON UPDATE NO ACTION,\\r\\n   ...'), ('Track', 'CREATE TABLE [Track]\\r\\n(\\r\\n    [TrackId] INTEGER  NOT NULL,\\r\\n    [Name] NVARCHAR(200)  NOT NULL,\\r\\n    [AlbumId] INTEGER,\\r\\n    [MediaTypeId] INTEGER  NOT NULL,\\r\\n    [GenreId] INTEGER,\\r\\n    [Composer] NVARCHAR(220),\\r\\n    [Milliseconds] INTEGER  NOT NULL,\\r\\n    [Bytes] INTEGER,\\r\\n    [UnitPrice]...')]\n",
            "The database contains the following tables:\n",
            "\n",
            "1. Album\n",
            "2. Artist\n",
            "3. Customer\n",
            "4. Employee\n",
            "5. Genre\n",
            "6. Invoice\n",
            "7. InvoiceLine\n",
            "8. MediaType\n",
            "9. Playlist\n",
            "10. PlaylistTrack\n",
            "11. Track\n"
          ]
        }
      ]
    },
    {
      "cell_type": "code",
      "source": [
        "chat_with_sqldb(question = \"Describe the Invoice table.\")"
      ],
      "metadata": {
        "colab": {
          "base_uri": "https://localhost:8080/"
        },
        "id": "zl78APzT1nOX",
        "outputId": "1303d10c-7fbc-49a1-8ed5-9793cad8e930"
      },
      "execution_count": 22,
      "outputs": [
        {
          "output_type": "stream",
          "name": "stdout",
          "text": [
            "Error encountered: (sqlite3.OperationalError) near \"DESCRIBE\": syntax error\n",
            "[SQL: DESCRIBE \"Invoice\"]\n",
            "(Background on this error at: https://sqlalche.me/e/20/e3q8)\n",
            "SELECT T1.Name FROM MediaType AS T1 INNER JOIN Track AS T2 ON T1.MediaTypeId = T2.MediaTypeId WHERE T2.GenreId IS NULL\n",
            "\n",
            "SELECT COUNT(*) FROM Invoice;\n",
            "\n",
            "Result : [(3,)]\n",
            "\n",
            "Response: There are 3 invoices in the database.\n"
          ]
        }
      ]
    },
    {
      "cell_type": "code",
      "source": [
        "chat_with_sqldb(question = \"Give the names of employees.\")"
      ],
      "metadata": {
        "colab": {
          "base_uri": "https://localhost:8080/"
        },
        "id": "xILxTIlW1_By",
        "outputId": "f9c9c151-dabf-421f-fa36-0df75b6c603c"
      },
      "execution_count": 23,
      "outputs": [
        {
          "output_type": "stream",
          "name": "stdout",
          "text": [
            "SELECT FirstName, LastName FROM Employee\n",
            "[('Andrew', 'Adams'), ('Nancy', 'Edwards'), ('Jane', 'Peacock'), ('Margaret', 'Park'), ('Steve', 'Johnson'), ('Michael', 'Mitchell'), ('Robert', 'King'), ('Laura', 'Callahan')]\n",
            "The names of the employees are Andrew Adams, Nancy Edwards, Jane Peacock, Margaret Park, Steve Johnson, Michael Mitchell, Robert King, and Laura Callahan.\n"
          ]
        }
      ]
    }
  ]
}